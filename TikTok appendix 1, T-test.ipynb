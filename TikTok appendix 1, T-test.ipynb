{
 "cells": [
  {
   "cell_type": "markdown",
   "id": "9c4070f3-d45f-48ca-93ae-a00bb893085b",
   "metadata": {},
   "source": [
    "# TikTok Video Classification Project: Hypothesis Testing\n",
    "*Purpose*\\\n",
    "TikTok is a platform for producing and viewing short-term mobile videos. Users of the platform can report videos and comments that contain claims versus opinions. With the high number of submissions and interactions on TikTok each day, it is challenging for human moderators to review efficiently each video, comments, and claims concerning content. TikTok wants to reduce the backlog of user reports and prioritize claim reports. **The goal of this project is to mitigate misinformation in videos on the TikTok platform by building a reliable machine learning model which will help reduce report backlog**.\n",
    "\n",
    "* An *opinion* is a personal or group belief or thought concerning any information, action, thought, person, or group, place, or thing\n",
    "* A *claim* is unqualified information concerning any information, action, thought, person, or group, place, or thing\n",
    "\n",
    "As presented by TikTok: “any answers, responses, comments, opinions, analysis or recommendations that you are not properly licensed or otherwise qualified to provide (https://www.tiktok.com/legal/page/us/terms-of-service/en ).” \\\n",
    "TikTok safety: https://newsroom.tiktok.com/en-us/safety\n",
    "\n",
    "*Deliverables*\n",
    "> **Appendix 1: Hypothesis Testing, Two-sample t-tests**\\\n",
    "Several two-sample hypothesis tests (t-test) to ascertain if there is a statistically significant difference or a random sampling occurrence in *mean* in `video_view_count` and the statuses: `verified_status`, `claim_status`, and `author_ban_status`.\n",
    "\n",
    "*Data*\\\n",
    "The data set used here comes from the Google Advanced Data Analytics Professional Certificate course on the Coursera platform: https://www.coursera.org/google-certificates/advanced-data-analytics-certificate\n",
    "\n",
    "*Code*\\\n",
    "All code for this project is located at: https://github.com/izsolnay/TikTok_Python"
   ]
  },
  {
   "cell_type": "markdown",
   "id": "f8905b02-becc-4e53-b4f6-b17536f2a273",
   "metadata": {},
   "source": [
    "# Appendix 1: Hypothesis Testing, Two-sample t-tests"
   ]
  },
  {
   "cell_type": "code",
   "execution_count": 1,
   "id": "8ef477a6-5f56-429a-af7d-fafd047fa04c",
   "metadata": {},
   "outputs": [],
   "source": [
    "# Import standard operational packages\n",
    "import pandas as pd\n",
    "import numpy as np\n",
    "\n",
    "# Import additional statistical package\n",
    "from scipy import stats\n",
    "\n",
    "# Set Jupyter to display all of the columns (no redaction)\n",
    "pd.set_option('display.max_columns', None)"
   ]
  },
  {
   "cell_type": "code",
   "execution_count": 2,
   "id": "62fffe1b-307f-475e-b8fb-89f99f70711c",
   "metadata": {},
   "outputs": [
    {
     "data": {
      "text/html": [
       "<div>\n",
       "<style scoped>\n",
       "    .dataframe tbody tr th:only-of-type {\n",
       "        vertical-align: middle;\n",
       "    }\n",
       "\n",
       "    .dataframe tbody tr th {\n",
       "        vertical-align: top;\n",
       "    }\n",
       "\n",
       "    .dataframe thead th {\n",
       "        text-align: right;\n",
       "    }\n",
       "</style>\n",
       "<table border=\"1\" class=\"dataframe\">\n",
       "  <thead>\n",
       "    <tr style=\"text-align: right;\">\n",
       "      <th></th>\n",
       "      <th>#</th>\n",
       "      <th>claim_status</th>\n",
       "      <th>video_id</th>\n",
       "      <th>video_duration_sec</th>\n",
       "      <th>video_transcription_text</th>\n",
       "      <th>verified_status</th>\n",
       "      <th>author_ban_status</th>\n",
       "      <th>video_view_count</th>\n",
       "      <th>video_like_count</th>\n",
       "      <th>video_share_count</th>\n",
       "      <th>video_download_count</th>\n",
       "      <th>video_comment_count</th>\n",
       "      <th>likes_per_view</th>\n",
       "      <th>comments_per_view</th>\n",
       "      <th>shares_per_view</th>\n",
       "    </tr>\n",
       "  </thead>\n",
       "  <tbody>\n",
       "    <tr>\n",
       "      <th>0</th>\n",
       "      <td>1</td>\n",
       "      <td>claim</td>\n",
       "      <td>7017666017</td>\n",
       "      <td>59</td>\n",
       "      <td>someone shared with me that drone deliveries a...</td>\n",
       "      <td>not verified</td>\n",
       "      <td>under review</td>\n",
       "      <td>343296.0</td>\n",
       "      <td>19425.0</td>\n",
       "      <td>241.0</td>\n",
       "      <td>1.0</td>\n",
       "      <td>0.0</td>\n",
       "      <td>0.056584</td>\n",
       "      <td>0.000000</td>\n",
       "      <td>0.000702</td>\n",
       "    </tr>\n",
       "    <tr>\n",
       "      <th>1</th>\n",
       "      <td>2</td>\n",
       "      <td>claim</td>\n",
       "      <td>4014381136</td>\n",
       "      <td>32</td>\n",
       "      <td>someone shared with me that there are more mic...</td>\n",
       "      <td>not verified</td>\n",
       "      <td>active</td>\n",
       "      <td>140877.0</td>\n",
       "      <td>77355.0</td>\n",
       "      <td>19034.0</td>\n",
       "      <td>1161.0</td>\n",
       "      <td>684.0</td>\n",
       "      <td>0.549096</td>\n",
       "      <td>0.004855</td>\n",
       "      <td>0.135111</td>\n",
       "    </tr>\n",
       "    <tr>\n",
       "      <th>2</th>\n",
       "      <td>3</td>\n",
       "      <td>claim</td>\n",
       "      <td>9859838091</td>\n",
       "      <td>31</td>\n",
       "      <td>someone shared with me that american industria...</td>\n",
       "      <td>not verified</td>\n",
       "      <td>active</td>\n",
       "      <td>902185.0</td>\n",
       "      <td>97690.0</td>\n",
       "      <td>2858.0</td>\n",
       "      <td>833.0</td>\n",
       "      <td>329.0</td>\n",
       "      <td>0.108282</td>\n",
       "      <td>0.000365</td>\n",
       "      <td>0.003168</td>\n",
       "    </tr>\n",
       "    <tr>\n",
       "      <th>3</th>\n",
       "      <td>4</td>\n",
       "      <td>claim</td>\n",
       "      <td>1866847991</td>\n",
       "      <td>25</td>\n",
       "      <td>someone shared with me that the metro of st. p...</td>\n",
       "      <td>not verified</td>\n",
       "      <td>active</td>\n",
       "      <td>437506.0</td>\n",
       "      <td>239954.0</td>\n",
       "      <td>34812.0</td>\n",
       "      <td>1234.0</td>\n",
       "      <td>584.0</td>\n",
       "      <td>0.548459</td>\n",
       "      <td>0.001335</td>\n",
       "      <td>0.079569</td>\n",
       "    </tr>\n",
       "    <tr>\n",
       "      <th>4</th>\n",
       "      <td>5</td>\n",
       "      <td>claim</td>\n",
       "      <td>7105231098</td>\n",
       "      <td>19</td>\n",
       "      <td>someone shared with me that the number of busi...</td>\n",
       "      <td>not verified</td>\n",
       "      <td>active</td>\n",
       "      <td>56167.0</td>\n",
       "      <td>34987.0</td>\n",
       "      <td>4110.0</td>\n",
       "      <td>547.0</td>\n",
       "      <td>152.0</td>\n",
       "      <td>0.622910</td>\n",
       "      <td>0.002706</td>\n",
       "      <td>0.073175</td>\n",
       "    </tr>\n",
       "  </tbody>\n",
       "</table>\n",
       "</div>"
      ],
      "text/plain": [
       "   # claim_status    video_id  video_duration_sec  \\\n",
       "0  1        claim  7017666017                  59   \n",
       "1  2        claim  4014381136                  32   \n",
       "2  3        claim  9859838091                  31   \n",
       "3  4        claim  1866847991                  25   \n",
       "4  5        claim  7105231098                  19   \n",
       "\n",
       "                            video_transcription_text verified_status  \\\n",
       "0  someone shared with me that drone deliveries a...    not verified   \n",
       "1  someone shared with me that there are more mic...    not verified   \n",
       "2  someone shared with me that american industria...    not verified   \n",
       "3  someone shared with me that the metro of st. p...    not verified   \n",
       "4  someone shared with me that the number of busi...    not verified   \n",
       "\n",
       "  author_ban_status  video_view_count  video_like_count  video_share_count  \\\n",
       "0      under review          343296.0           19425.0              241.0   \n",
       "1            active          140877.0           77355.0            19034.0   \n",
       "2            active          902185.0           97690.0             2858.0   \n",
       "3            active          437506.0          239954.0            34812.0   \n",
       "4            active           56167.0           34987.0             4110.0   \n",
       "\n",
       "   video_download_count  video_comment_count  likes_per_view  \\\n",
       "0                   1.0                  0.0        0.056584   \n",
       "1                1161.0                684.0        0.549096   \n",
       "2                 833.0                329.0        0.108282   \n",
       "3                1234.0                584.0        0.548459   \n",
       "4                 547.0                152.0        0.622910   \n",
       "\n",
       "   comments_per_view  shares_per_view  \n",
       "0           0.000000         0.000702  \n",
       "1           0.004855         0.135111  \n",
       "2           0.000365         0.003168  \n",
       "3           0.001335         0.079569  \n",
       "4           0.002706         0.073175  "
      ]
     },
     "execution_count": 2,
     "metadata": {},
     "output_type": "execute_result"
    }
   ],
   "source": [
    "# Import data; create df\n",
    "df0 = pd.read_csv('TikTok_clean.csv')\n",
    "df0.head()"
   ]
  },
  {
   "cell_type": "code",
   "execution_count": 3,
   "id": "b6bbc4d0-3b72-4ead-a3dd-73d6a23e0f73",
   "metadata": {},
   "outputs": [
    {
     "name": "stdout",
     "output_type": "stream",
     "text": [
      "<class 'pandas.core.frame.DataFrame'>\n",
      "RangeIndex: 19084 entries, 0 to 19083\n",
      "Data columns (total 15 columns):\n",
      " #   Column                    Non-Null Count  Dtype  \n",
      "---  ------                    --------------  -----  \n",
      " 0   #                         19084 non-null  int64  \n",
      " 1   claim_status              19084 non-null  object \n",
      " 2   video_id                  19084 non-null  int64  \n",
      " 3   video_duration_sec        19084 non-null  int64  \n",
      " 4   video_transcription_text  19084 non-null  object \n",
      " 5   verified_status           19084 non-null  object \n",
      " 6   author_ban_status         19084 non-null  object \n",
      " 7   video_view_count          19084 non-null  float64\n",
      " 8   video_like_count          19084 non-null  float64\n",
      " 9   video_share_count         19084 non-null  float64\n",
      " 10  video_download_count      19084 non-null  float64\n",
      " 11  video_comment_count       19084 non-null  float64\n",
      " 12  likes_per_view            19084 non-null  float64\n",
      " 13  comments_per_view         19084 non-null  float64\n",
      " 14  shares_per_view           19084 non-null  float64\n",
      "dtypes: float64(8), int64(3), object(4)\n",
      "memory usage: 2.2+ MB\n"
     ]
    }
   ],
   "source": [
    "df0.info()"
   ]
  },
  {
   "cell_type": "code",
   "execution_count": 4,
   "id": "d6974de9-027a-4cda-9536-7afaae175924",
   "metadata": {},
   "outputs": [
    {
     "data": {
      "text/plain": [
       "#                            object\n",
       "claim_status                 object\n",
       "video_id                     object\n",
       "video_duration_sec            int64\n",
       "video_transcription_text     object\n",
       "verified_status              object\n",
       "author_ban_status            object\n",
       "video_view_count            float64\n",
       "video_like_count            float64\n",
       "video_share_count           float64\n",
       "video_download_count        float64\n",
       "video_comment_count         float64\n",
       "likes_per_view              float64\n",
       "comments_per_view           float64\n",
       "shares_per_view             float64\n",
       "dtype: object"
      ]
     },
     "execution_count": 4,
     "metadata": {},
     "output_type": "execute_result"
    }
   ],
   "source": [
    "# Retype `#` and `video_id` as obj\n",
    "df0[['#', 'video_id']] = df0[['#', 'video_id']].astype('object')\n",
    "df = df0.copy()\n",
    "df.dtypes"
   ]
  },
  {
   "cell_type": "code",
   "execution_count": 5,
   "id": "4b6a80f6-50c5-462c-9441-ef2ef3a0c436",
   "metadata": {},
   "outputs": [
    {
     "data": {
      "text/html": [
       "<div>\n",
       "<style scoped>\n",
       "    .dataframe tbody tr th:only-of-type {\n",
       "        vertical-align: middle;\n",
       "    }\n",
       "\n",
       "    .dataframe tbody tr th {\n",
       "        vertical-align: top;\n",
       "    }\n",
       "\n",
       "    .dataframe thead th {\n",
       "        text-align: right;\n",
       "    }\n",
       "</style>\n",
       "<table border=\"1\" class=\"dataframe\">\n",
       "  <thead>\n",
       "    <tr style=\"text-align: right;\">\n",
       "      <th></th>\n",
       "      <th>video_duration_sec</th>\n",
       "      <th>video_view_count</th>\n",
       "      <th>video_like_count</th>\n",
       "      <th>video_share_count</th>\n",
       "      <th>video_download_count</th>\n",
       "      <th>video_comment_count</th>\n",
       "      <th>likes_per_view</th>\n",
       "      <th>comments_per_view</th>\n",
       "      <th>shares_per_view</th>\n",
       "    </tr>\n",
       "  </thead>\n",
       "  <tbody>\n",
       "    <tr>\n",
       "      <th>count</th>\n",
       "      <td>19084.00</td>\n",
       "      <td>19084.00</td>\n",
       "      <td>19084.00</td>\n",
       "      <td>19084.00</td>\n",
       "      <td>19084.00</td>\n",
       "      <td>19084.00</td>\n",
       "      <td>19084.00</td>\n",
       "      <td>19084.00</td>\n",
       "      <td>19084.00</td>\n",
       "    </tr>\n",
       "    <tr>\n",
       "      <th>mean</th>\n",
       "      <td>32.42</td>\n",
       "      <td>254708.56</td>\n",
       "      <td>84304.64</td>\n",
       "      <td>16735.25</td>\n",
       "      <td>1049.43</td>\n",
       "      <td>349.31</td>\n",
       "      <td>0.28</td>\n",
       "      <td>0.00</td>\n",
       "      <td>0.05</td>\n",
       "    </tr>\n",
       "    <tr>\n",
       "      <th>std</th>\n",
       "      <td>16.23</td>\n",
       "      <td>322893.28</td>\n",
       "      <td>133420.55</td>\n",
       "      <td>32036.17</td>\n",
       "      <td>2004.30</td>\n",
       "      <td>799.64</td>\n",
       "      <td>0.17</td>\n",
       "      <td>0.00</td>\n",
       "      <td>0.05</td>\n",
       "    </tr>\n",
       "    <tr>\n",
       "      <th>min</th>\n",
       "      <td>5.00</td>\n",
       "      <td>20.00</td>\n",
       "      <td>0.00</td>\n",
       "      <td>0.00</td>\n",
       "      <td>0.00</td>\n",
       "      <td>0.00</td>\n",
       "      <td>0.00</td>\n",
       "      <td>0.00</td>\n",
       "      <td>0.00</td>\n",
       "    </tr>\n",
       "    <tr>\n",
       "      <th>25%</th>\n",
       "      <td>18.00</td>\n",
       "      <td>4942.50</td>\n",
       "      <td>810.75</td>\n",
       "      <td>115.00</td>\n",
       "      <td>7.00</td>\n",
       "      <td>1.00</td>\n",
       "      <td>0.13</td>\n",
       "      <td>0.00</td>\n",
       "      <td>0.01</td>\n",
       "    </tr>\n",
       "    <tr>\n",
       "      <th>50%</th>\n",
       "      <td>32.00</td>\n",
       "      <td>9954.50</td>\n",
       "      <td>3403.50</td>\n",
       "      <td>717.00</td>\n",
       "      <td>46.00</td>\n",
       "      <td>9.00</td>\n",
       "      <td>0.26</td>\n",
       "      <td>0.00</td>\n",
       "      <td>0.04</td>\n",
       "    </tr>\n",
       "    <tr>\n",
       "      <th>75%</th>\n",
       "      <td>47.00</td>\n",
       "      <td>504327.00</td>\n",
       "      <td>125020.00</td>\n",
       "      <td>18222.00</td>\n",
       "      <td>1156.25</td>\n",
       "      <td>292.00</td>\n",
       "      <td>0.40</td>\n",
       "      <td>0.00</td>\n",
       "      <td>0.08</td>\n",
       "    </tr>\n",
       "    <tr>\n",
       "      <th>max</th>\n",
       "      <td>60.00</td>\n",
       "      <td>999817.00</td>\n",
       "      <td>657830.00</td>\n",
       "      <td>256130.00</td>\n",
       "      <td>14994.00</td>\n",
       "      <td>9599.00</td>\n",
       "      <td>0.67</td>\n",
       "      <td>0.01</td>\n",
       "      <td>0.27</td>\n",
       "    </tr>\n",
       "  </tbody>\n",
       "</table>\n",
       "</div>"
      ],
      "text/plain": [
       "       video_duration_sec  video_view_count  video_like_count  \\\n",
       "count            19084.00          19084.00          19084.00   \n",
       "mean                32.42         254708.56          84304.64   \n",
       "std                 16.23         322893.28         133420.55   \n",
       "min                  5.00             20.00              0.00   \n",
       "25%                 18.00           4942.50            810.75   \n",
       "50%                 32.00           9954.50           3403.50   \n",
       "75%                 47.00         504327.00         125020.00   \n",
       "max                 60.00         999817.00         657830.00   \n",
       "\n",
       "       video_share_count  video_download_count  video_comment_count  \\\n",
       "count           19084.00              19084.00             19084.00   \n",
       "mean            16735.25               1049.43               349.31   \n",
       "std             32036.17               2004.30               799.64   \n",
       "min                 0.00                  0.00                 0.00   \n",
       "25%               115.00                  7.00                 1.00   \n",
       "50%               717.00                 46.00                 9.00   \n",
       "75%             18222.00               1156.25               292.00   \n",
       "max            256130.00              14994.00              9599.00   \n",
       "\n",
       "       likes_per_view  comments_per_view  shares_per_view  \n",
       "count        19084.00           19084.00         19084.00  \n",
       "mean             0.28               0.00             0.05  \n",
       "std              0.17               0.00             0.05  \n",
       "min              0.00               0.00             0.00  \n",
       "25%              0.13               0.00             0.01  \n",
       "50%              0.26               0.00             0.04  \n",
       "75%              0.40               0.00             0.08  \n",
       "max              0.67               0.01             0.27  "
      ]
     },
     "execution_count": 5,
     "metadata": {},
     "output_type": "execute_result"
    }
   ],
   "source": [
    "df.describe().round(2)"
   ]
  },
  {
   "cell_type": "markdown",
   "id": "5d8aea52-da25-4633-a33c-4c52f0a6e879",
   "metadata": {},
   "source": [
    "## Hypothesis testing: Welch's t-test\n",
    "Welch's t-test assumes unequal variances in population (no reason to assume same variance here)\\\n",
    "(Variance: the average of the squared difference of each data point from the mean)\n",
    "1. state the NULL hypothesis ($H_0$) and the alternative hypothesis ($H_a$)\n",
    "    * $H_0$: there is no statistical difference – not reject, any difference is CHANCE\n",
    "    * $H_a$: there is a statistical difference - REJECT, not due to chance; there is a relationship.\n",
    "2. choose a significance level: 5%\n",
    "3. find the p-value; stats.ttest_ind() function to perform the test\n",
    "4. reject or fail to reject the NULL hypothesis"
   ]
  },
  {
   "cell_type": "code",
   "execution_count": 6,
   "id": "612bdfa8-2f84-4a7b-8bec-eef9ad8e38c1",
   "metadata": {},
   "outputs": [
    {
     "data": {
      "text/plain": [
       "0.05"
      ]
     },
     "execution_count": 6,
     "metadata": {},
     "output_type": "execute_result"
    }
   ],
   "source": [
    "# Set significance level\n",
    "significance_level = 0.05\n",
    "significance_level"
   ]
  },
  {
   "cell_type": "markdown",
   "id": "d6373922-da51-4d97-9eb1-b20f9ec2939f",
   "metadata": {},
   "source": [
    "### Two-sample t-test for statistical significance between verification statuses and mean video views \n",
    "* $H_0$: there is no statistical difference between the *mean* number of video views between verified and unverified authors – any difference is CHANCE\n",
    "* $H_a$: there is a statistical difference; REJECT $H_0$, because difference is not due to chance; there is a relationship."
   ]
  },
  {
   "cell_type": "code",
   "execution_count": 7,
   "id": "26cf6c1a-48dc-4bd3-b160-8262bab419bf",
   "metadata": {},
   "outputs": [
    {
     "name": "stdout",
     "output_type": "stream",
     "text": [
      "(19084, 15)\n",
      "verified_status\n",
      "not verified    17884\n",
      "verified         1200\n",
      "Name: count, dtype: int64\n",
      "verified_status\n",
      "not verified    93.7%\n",
      "verified         6.3%\n",
      "Name: proportion, dtype: object\n"
     ]
    }
   ],
   "source": [
    "# Calculate count and % of verified_status in full dataset\n",
    "print(df.shape)\n",
    "print(df['verified_status'].value_counts()) # value_counts counts the # of times appears\n",
    "print(df['verified_status'].value_counts(normalize = True).mul(100).round(1).astype(str) + '%')  # normalize = True displays in percentages"
   ]
  },
  {
   "cell_type": "code",
   "execution_count": 8,
   "id": "6da9aaaa-ac41-46e5-b652-947e2615a5a4",
   "metadata": {},
   "outputs": [
    {
     "data": {
      "text/plain": [
       "verified_status\n",
       "not verified    46723.0\n",
       "verified         6023.5\n",
       "Name: video_view_count, dtype: float64"
      ]
     },
     "execution_count": 8,
     "metadata": {},
     "output_type": "execute_result"
    }
   ],
   "source": [
    "# Calculate median `video_view_count` for each group in `verified_status`\n",
    "df.groupby('verified_status')['video_view_count'].median()"
   ]
  },
  {
   "cell_type": "code",
   "execution_count": 9,
   "id": "3c4225c0-e7cb-44c4-9430-e0c68e2afb61",
   "metadata": {},
   "outputs": [
    {
     "data": {
      "text/plain": [
       "verified_status\n",
       "not verified    265663.785339\n",
       "verified         91439.164167\n",
       "Name: video_view_count, dtype: float64"
      ]
     },
     "execution_count": 9,
     "metadata": {},
     "output_type": "execute_result"
    }
   ],
   "source": [
    "# Calculate mean `video_view_count` for each group in `verified_status`\n",
    "df.groupby('verified_status')['video_view_count'].mean()"
   ]
  },
  {
   "cell_type": "code",
   "execution_count": 10,
   "id": "b785c77c-3752-44c2-8aa5-bcaf74f6be64",
   "metadata": {},
   "outputs": [
    {
     "data": {
      "text/plain": [
       "TtestResult(statistic=25.499441780633777, pvalue=2.6088823687177823e-120, df=1571.163074387424)"
      ]
     },
     "execution_count": 10,
     "metadata": {},
     "output_type": "execute_result"
    }
   ],
   "source": [
    "# Conduct a two-sample t-test to compare means\n",
    "# Isolate not_verified and verified\n",
    "not_verified = df[df['verified_status'] == 'not verified']['video_view_count']\n",
    "verified = df[df['verified_status'] == 'verified']['video_view_count']\n",
    "\n",
    "# Perform t-test\n",
    "stats.ttest_ind(a=not_verified, b=verified, equal_var=False) # equal_var=False to not assume population variances are ="
   ]
  },
  {
   "cell_type": "markdown",
   "id": "c77dfe0e-5e4c-41f3-a9c9-6d4ea4de3df2",
   "metadata": {},
   "source": [
    "#### Results\n",
    "There would seem to be a large difference between the medians and averages between verified and not verified authors    \n",
    "\n",
    "And, indeed the p-value is phenomenally small (2.6088823687177823e-120 < 0.05) so the NULL hypothesis can be rejected \\\n",
    "There is a statistical difference between the means of video views which are by verified versus unverified authors."
   ]
  },
  {
   "cell_type": "markdown",
   "id": "d43c0e0a-9321-4cfc-96c3-4e903c2a9358",
   "metadata": {},
   "source": [
    "### Conduct a Two-sample t-test statistical significance between claim statuses and mean video views\n",
    "* $H_0$: there is no statistical difference between the *mean* number of video views between opinion and claim videos – any difference is CHANCE\n",
    "* $H_a$: there is a statistical difference; REJECT $H_0$, because difference is not due to chance; there is a relationship."
   ]
  },
  {
   "cell_type": "code",
   "execution_count": 11,
   "id": "299529a3-5889-4fbc-952d-4643a7b4081b",
   "metadata": {},
   "outputs": [
    {
     "name": "stdout",
     "output_type": "stream",
     "text": [
      "claim_status\n",
      "claim      9608\n",
      "opinion    9476\n",
      "Name: count, dtype: int64\n",
      "claim_status\n",
      "claim      50.3%\n",
      "opinion    49.7%\n",
      "Name: proportion, dtype: object\n"
     ]
    }
   ],
   "source": [
    "# Calculate count and % of claim_status in full dataset\n",
    "print(df['claim_status'].value_counts()) \n",
    "print(df['claim_status'].value_counts(normalize = True).mul(100).round(1).astype(str) + '%') "
   ]
  },
  {
   "cell_type": "code",
   "execution_count": 12,
   "id": "0e855aa4-0ffa-4628-bf86-105784457b00",
   "metadata": {},
   "outputs": [
    {
     "data": {
      "text/plain": [
       "claim_status\n",
       "claim      501555.0\n",
       "opinion      4953.0\n",
       "Name: video_view_count, dtype: float64"
      ]
     },
     "execution_count": 12,
     "metadata": {},
     "output_type": "execute_result"
    }
   ],
   "source": [
    "# Calculate median `video_view_count` for each group in `claim_status`\n",
    "df.groupby('claim_status')['video_view_count'].median()"
   ]
  },
  {
   "cell_type": "code",
   "execution_count": 13,
   "id": "db1e7b71-f935-48f7-8fe1-73a8b5b1bd88",
   "metadata": {},
   "outputs": [
    {
     "data": {
      "text/plain": [
       "claim_status\n",
       "claim      501029.452748\n",
       "opinion      4956.432250\n",
       "Name: video_view_count, dtype: float64"
      ]
     },
     "execution_count": 13,
     "metadata": {},
     "output_type": "execute_result"
    }
   ],
   "source": [
    "# Calculate median `video_view_count` for each group in `claim_status`\n",
    "df.groupby('claim_status')['video_view_count'].mean()"
   ]
  },
  {
   "cell_type": "code",
   "execution_count": 14,
   "id": "009f08e4-3f44-4d7a-9b3a-768174e6b93c",
   "metadata": {},
   "outputs": [
    {
     "data": {
      "text/plain": [
       "TtestResult(statistic=166.88857822856752, pvalue=0.0, df=9608.91144749953)"
      ]
     },
     "execution_count": 14,
     "metadata": {},
     "output_type": "execute_result"
    }
   ],
   "source": [
    "# Conduct a two-sample t-test to compare means\n",
    "# Isolate claim and opinion\n",
    "claim = df[df['claim_status'] == 'claim']['video_view_count']\n",
    "opinion = df[df['claim_status'] == 'opinion']['video_view_count']\n",
    "\n",
    "# Perform t-test\n",
    "stats.ttest_ind(a=claim, b=opinion, equal_var=False) # equal_var=False to not assume population variances are ="
   ]
  },
  {
   "cell_type": "markdown",
   "id": "bbf08c17-e8eb-450b-8456-7c737d3b3e2e",
   "metadata": {},
   "source": [
    "##### Results\n",
    "There would seem to be a large difference between the medians and averages between claim and opinion videos    \n",
    "\n",
    "And, indeed the p-value is 0.00 (< 0.05) so the NULL hypothesis can be rejected. \\\n",
    "There is a statistical difference between the means of video views which are labelled claim versus opinion."
   ]
  },
  {
   "cell_type": "markdown",
   "id": "f7beb181-6976-4c9d-9cc1-13526c8dd3e2",
   "metadata": {},
   "source": [
    "### Conduct a Two-sample t-test statistical significance between author ban statuses and mean video views\n",
    "$H_0$: there is no statistical difference between the *mean* number of video views between author ban statuses – any difference is CHANCE\\\n",
    "$H_a$: there is a statistical difference; REJECT $H_0$, because difference is not due to chance; there is a relationship\n",
    "  \n",
    "1) banned vs active\n",
    "2) banned vs under review\n",
    "3) active vs under review"
   ]
  },
  {
   "cell_type": "code",
   "execution_count": 15,
   "id": "f6545c7f-2e4f-479c-84ff-bf019051fe2b",
   "metadata": {},
   "outputs": [
    {
     "name": "stdout",
     "output_type": "stream",
     "text": [
      "author_ban_status\n",
      "active          15383\n",
      "under review     2066\n",
      "banned           1635\n",
      "Name: count, dtype: int64\n",
      "author_ban_status\n",
      "active          80.6%\n",
      "under review    10.8%\n",
      "banned           8.6%\n",
      "Name: proportion, dtype: object\n"
     ]
    }
   ],
   "source": [
    "# Calculate count and % of author_ban_status in full dataset\n",
    "print(df['author_ban_status'].value_counts()) \n",
    "print(df['author_ban_status'].value_counts(normalize = True).mul(100).round(1).astype(str) + '%') "
   ]
  },
  {
   "cell_type": "code",
   "execution_count": 16,
   "id": "405fb9d4-278e-4733-9d5f-8dd1ab3a88f5",
   "metadata": {},
   "outputs": [
    {
     "data": {
      "text/plain": [
       "author_ban_status\n",
       "active            8616.0\n",
       "banned          448201.0\n",
       "under review    365245.5\n",
       "Name: video_view_count, dtype: float64"
      ]
     },
     "execution_count": 16,
     "metadata": {},
     "output_type": "execute_result"
    }
   ],
   "source": [
    "# Calculate median `video_view_count` for each group in `author_ban_status`\n",
    "df.groupby('author_ban_status')['video_view_count'].median()"
   ]
  },
  {
   "cell_type": "code",
   "execution_count": 17,
   "id": "3a173454-c259-4d1e-965d-68c432bd49e0",
   "metadata": {},
   "outputs": [
    {
     "data": {
      "text/plain": [
       "author_ban_status\n",
       "active          215927.039524\n",
       "banned          445845.439144\n",
       "under review    392204.836399\n",
       "Name: video_view_count, dtype: float64"
      ]
     },
     "execution_count": 17,
     "metadata": {},
     "output_type": "execute_result"
    }
   ],
   "source": [
    "# Calculate median `video_view_count` for each group in `author_ban_status`\n",
    "df.groupby('author_ban_status')['video_view_count'].mean()"
   ]
  },
  {
   "cell_type": "code",
   "execution_count": 18,
   "id": "483f739d-0491-447d-9370-9ec01a528b80",
   "metadata": {},
   "outputs": [
    {
     "data": {
      "text/plain": [
       "TtestResult(statistic=28.105495839234667, pvalue=1.2902882827873965e-146, df=1986.4599754382912)"
      ]
     },
     "execution_count": 18,
     "metadata": {},
     "output_type": "execute_result"
    }
   ],
   "source": [
    "# Conduct a two-sample t-test to compare means\n",
    "# Isolate banned and active\n",
    "banned = df[df['author_ban_status'] == 'banned']['video_view_count']\n",
    "active = df[df['author_ban_status'] == 'active']['video_view_count']\n",
    "\n",
    "# Perform t-test\n",
    "stats.ttest_ind(a=banned, b=active, equal_var=False)"
   ]
  },
  {
   "cell_type": "code",
   "execution_count": 19,
   "id": "fe28eb00-300b-4dd8-8f45-5f757d63364b",
   "metadata": {},
   "outputs": [
    {
     "data": {
      "text/plain": [
       "TtestResult(statistic=5.0417127756548235, pvalue=4.843209118056266e-07, df=3570.660053763425)"
      ]
     },
     "execution_count": 19,
     "metadata": {},
     "output_type": "execute_result"
    }
   ],
   "source": [
    "# Conduct a two-sample t-test to compare means\n",
    "# Isolate banned and under_review\n",
    "banned = df[df['author_ban_status'] == 'banned']['video_view_count']\n",
    "under_review = df[df['author_ban_status'] == 'under review']['video_view_count']\n",
    "\n",
    "# Perform t-test\n",
    "stats.ttest_ind(a=banned, b=under_review, equal_var=False)"
   ]
  },
  {
   "cell_type": "code",
   "execution_count": 20,
   "id": "3c87c69f-a49f-4d9b-acd5-72d312a146bf",
   "metadata": {},
   "outputs": [
    {
     "data": {
      "text/plain": [
       "TtestResult(statistic=-22.9890878218809, pvalue=1.4909087700456904e-106, df=2581.6019458184783)"
      ]
     },
     "execution_count": 20,
     "metadata": {},
     "output_type": "execute_result"
    }
   ],
   "source": [
    "# Conduct a two-sample t-test to compare means\n",
    "# Isolate active and under_review\n",
    "active = df[df['author_ban_status'] == 'active']['video_view_count']\n",
    "under_review = df[df['author_ban_status'] == 'under review']['video_view_count']\n",
    "\n",
    "# Perform t-test\n",
    "stats.ttest_ind(a=active, b=under_review, equal_var=False) "
   ]
  },
  {
   "cell_type": "markdown",
   "id": "ce0edee6-d4b8-43d0-8ea5-80388b652c8d",
   "metadata": {},
   "source": [
    "#### Results\n",
    "The p-values are phenomenally small for all three tests. All NULL hypothesis can be rejected. \n",
    "1) there is a statistical difference between the means of video views which are by banned versus active authors.\n",
    "2) there is a statistical difference between the means of video views which are by banned versus under review authors.\n",
    "3) there is a statistical difference between the means of video views which are by active versus under review authors."
   ]
  },
  {
   "cell_type": "markdown",
   "id": "6343036f-5f80-4c05-b119-92b0381149c1",
   "metadata": {},
   "source": [
    "### Results\n",
    "There is a statistical difference between the means of video views which are:\n",
    "* by verified versus unverified authors\n",
    "* labelled claim versus opinion\n",
    "* by banned versus active authors\n",
    "* by banned versus under review authors\n",
    "* by active versus under review authors\n",
    "\n",
    "The social reasons for why the differences is of course a curious question, but relevant here is simply that these differences are not due to chance. Further work would have to be performed to discover why. \n",
    "* Are banned authors and under review more exciting because they are banned?\n",
    "* Do banned authors and under review authors post more salacious content?\n",
    "* Are claims seemingly more convincing?\n",
    "* And, how does verification play in? Is it good? Or, less convincing?"
   ]
  },
  {
   "cell_type": "code",
   "execution_count": null,
   "id": "27f5e733-ecf0-47f9-ade7-734f9d797f26",
   "metadata": {},
   "outputs": [],
   "source": []
  }
 ],
 "metadata": {
  "kernelspec": {
   "display_name": "Python 3 (ipykernel)",
   "language": "python",
   "name": "python3"
  },
  "language_info": {
   "codemirror_mode": {
    "name": "ipython",
    "version": 3
   },
   "file_extension": ".py",
   "mimetype": "text/x-python",
   "name": "python",
   "nbconvert_exporter": "python",
   "pygments_lexer": "ipython3",
   "version": "3.11.6"
  }
 },
 "nbformat": 4,
 "nbformat_minor": 5
}
